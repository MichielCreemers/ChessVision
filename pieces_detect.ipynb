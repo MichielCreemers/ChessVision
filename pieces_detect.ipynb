{
 "cells": [
  {
   "cell_type": "code",
   "execution_count": 1,
   "metadata": {},
   "outputs": [],
   "source": [
    "import ultralytics\n",
    "from ultralytics import YOLO\n",
    "import os\n",
    "import math\n",
    "from PIL import Image\n",
    "import cv2\n",
    "from IPython.display import Video\n",
    "import glob\n",
    "import matplotlib.pyplot as plt\n",
    "import numpy as np\n",
    "\n",
    "import board.corners as corners\n",
    "import board.grid as grid\n",
    "\n",
    "import warnings\n",
    "warnings.filterwarnings(\"ignore\")"
   ]
  },
  {
   "cell_type": "code",
   "execution_count": 2,
   "metadata": {},
   "outputs": [],
   "source": [
    "pieces_model = YOLO('models/pieces_large.pt')\n",
    "\n"
   ]
  },
  {
   "cell_type": "code",
   "execution_count": 4,
   "metadata": {},
   "outputs": [
    {
     "name": "stdout",
     "output_type": "stream",
     "text": [
      "\n",
      "image 1/1 c:\\Users\\Gebruiker\\Desktop\\School\\Extended Reality\\ChessAR_final\\ChessAR\\images\\warped_image.jpg: 640x640 2 black_bisshops, 1 black_king, 2 black_knights, 8 black_pawns, 1 black_queen, 2 black_rooks, 2 white_bisshops, 2 white_kings, 2 white_knights, 8 white_pawns, 1 white_queen, 3 white_rooks, 39.0ms\n",
      "Speed: 4.0ms preprocess, 39.0ms inference, 2198.0ms postprocess per image at shape (1, 3, 640, 640)\n"
     ]
    }
   ],
   "source": [
    "image_path = \"images/warped_image.jpg\"\n",
    "\n",
    "# predict chess pieces from image\n",
    "results = pieces_model.predict(image_path, conf=0.7, iou=0.3)\n",
    "\n",
    "prediction = results[0].plot(line_width=1, font_size=10)\n",
    "plt.imshow(prediction)\n",
    "plt.show()\n"
   ]
  }
 ],
 "metadata": {
  "kernelspec": {
   "display_name": "ThesisV1",
   "language": "python",
   "name": "python3"
  },
  "language_info": {
   "codemirror_mode": {
    "name": "ipython",
    "version": 3
   },
   "file_extension": ".py",
   "mimetype": "text/x-python",
   "name": "python",
   "nbconvert_exporter": "python",
   "pygments_lexer": "ipython3",
   "version": "3.11.7"
  }
 },
 "nbformat": 4,
 "nbformat_minor": 2
}
